{
 "cells": [
  {
   "cell_type": "markdown",
   "id": "6f55183f-f8ef-44f8-b486-cfebbdc0c8bb",
   "metadata": {},
   "source": [
    "###   3- implementing a one neuron from scratch\n"
   ]
  },
  {
   "cell_type": "code",
   "execution_count": 12,
   "id": "3eb5b826-b8b8-406e-bcb7-ae2a168b74c1",
   "metadata": {},
   "outputs": [],
   "source": [
    "import math \n",
    "def sigmoid(x):\n",
    "    \"\"\"Sigmoid activation function\n",
    "    Args:\n",
    "        x (float): Value to be processed\n",
    "    Returns:\n",
    "        y (float): Output\n",
    "    \"\"\"\n",
    "    y = 1.0 / (1 + math.exp(-x))\n",
    "    return y"
   ]
  },
  {
   "cell_type": "code",
   "execution_count": 29,
   "id": "bb55ddf1-9d2e-49f6-ba6c-76ed01d7927f",
   "metadata": {},
   "outputs": [],
   "source": [
    "def activate(inputs , weights ):\n",
    "    #perform net input\n",
    "    h = 0 \n",
    "    for x , w in zip( inputs, weights ):\n",
    "        h+= x*w\n",
    "    return sigmoid(h)"
   ]
  },
  {
   "cell_type": "code",
   "execution_count": 30,
   "id": "c062c250-aa6d-4ea8-9154-8b4e822ba4a2",
   "metadata": {},
   "outputs": [
    {
     "name": "stdout",
     "output_type": "stream",
     "text": [
      "0.610639233949222\n"
     ]
    }
   ],
   "source": [
    "\n",
    "if __name__ == \"__main__\":\n",
    "    inputs = [.5 , .3 , .2] \n",
    "    weights = [.4 , .7 , .2] \n",
    "    output  = activate(inputs , weights ) \n",
    "    print(output)\n",
    "    "
   ]
  },
  {
   "cell_type": "markdown",
   "id": "cae9a15f-786e-410a-bb85-997734d94fc4",
   "metadata": {},
   "source": [
    "###  6- Implementing a neural network from scratch in Python "
   ]
  },
  {
   "cell_type": "markdown",
   "id": "e1c96d4e-0d89-41a7-a915-73c481bb878f",
   "metadata": {},
   "source": []
  },
  {
   "cell_type": "code",
   "execution_count": 9,
   "id": "0505ea9c-7545-4567-a2d3-66c3ee17198b",
   "metadata": {},
   "outputs": [],
   "source": [
    "import numpy as np \n",
    "class MLP:\n",
    "    def __init__(self , num_inputs = 3 , num_hidden = [3 , 5] , num_outputs = 2):\n",
    "        self.num_input = num_inputs\n",
    "        self.num_hidden = num_hidden\n",
    "        self.num_outputs = num_outputs\n",
    "\n",
    "        layers = \n",
    "        "
   ]
  },
  {
   "cell_type": "code",
   "execution_count": 10,
   "id": "62067f43-1f2a-4e5d-8cc0-6cdbefe964e0",
   "metadata": {},
   "outputs": [],
   "source": [
    "x = MLP ( 3 , 3 , 3 )"
   ]
  },
  {
   "cell_type": "code",
   "execution_count": null,
   "id": "c5341e74-ddfc-4867-8dd3-795b94fbdbf0",
   "metadata": {},
   "outputs": [],
   "source": []
  }
 ],
 "metadata": {
  "kernelspec": {
   "display_name": "Python 3 (ipykernel)",
   "language": "python",
   "name": "python3"
  },
  "language_info": {
   "codemirror_mode": {
    "name": "ipython",
    "version": 3
   },
   "file_extension": ".py",
   "mimetype": "text/x-python",
   "name": "python",
   "nbconvert_exporter": "python",
   "pygments_lexer": "ipython3",
   "version": "3.10.0"
  }
 },
 "nbformat": 4,
 "nbformat_minor": 5
}
