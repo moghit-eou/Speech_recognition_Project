{
 "cells": [
  {
   "cell_type": "code",
   "execution_count": 57,
   "id": "79ccf806-a9f3-4746-94ed-8a610fc85180",
   "metadata": {},
   "outputs": [],
   "source": [
    "import numpy as np\n",
    "from random import random\n",
    "\n",
    "\n",
    "class MLP(object):\n",
    "    \n",
    "    def __init__(self, num_inputs=3, hidden_layers=[3, 5], num_outputs=2):\n",
    "        \n",
    "        self.num_inputs = num_inputs\n",
    "        self.hidden_layers = hidden_layers\n",
    "        self.num_outputs = num_outputs\n",
    "\n",
    "        # create a generic representation of the layers\n",
    "        layers = [num_inputs] + hidden_layers + [num_outputs]\n",
    "\n",
    "        # create random connection weights for the layers\n",
    "        weights = []\n",
    "        for i in range(len(layers) - 1):\n",
    "            w = np.random.rand(layers[i], layers[i + 1])\n",
    "            weights.append(w)\n",
    "        self.weights = weights\n",
    "        \n",
    "        # save derivatives per layer\n",
    "        derivatives = []\n",
    "        for i in range(len(layers) - 1):\n",
    "            d = np.zeros((layers[i], layers[i + 1]))\n",
    "            derivatives.append(d)\n",
    "        self.derivatives = derivatives\n",
    "\n",
    "        # save activations per layer\n",
    "        activations = []\n",
    "        for i in range(len(layers)):\n",
    "            a = np.zeros(layers[i])\n",
    "            activations.append(a)\n",
    "        self.activations = activations\n",
    "\n",
    "\n",
    "    def forward_propagate(self, inputs):\n",
    "        # the input layer activation is just the input itself\n",
    "        activations = inputs\n",
    "\n",
    "        # save the activations for backpropogation\n",
    "        self.activations[0] = activations\n",
    "\n",
    "        # iterate through the network layers\n",
    "        for i, w in enumerate(self.weights):\n",
    "            # calculate matrix multiplication between previous activation and weight matrix\n",
    "            net_inputs = np.dot(activations, w)\n",
    "\n",
    "            # apply sigmoid activation function\n",
    "            activations = self._sigmoid(net_inputs)\n",
    "\n",
    "            # save the activations for backpropogation\n",
    "            self.activations[i + 1] = activations\n",
    "\n",
    "        # return output layer activation\n",
    "        return activations\n",
    "        \n",
    "    def _sigmoid(self, x):\n",
    "        \"\"\"Sigmoid activation function\n",
    "        Args:\n",
    "            x (float): Value to be processed\n",
    "        Returns:\n",
    "            y (float): Output\n",
    "        \"\"\"\n",
    "\n",
    "        y = 1.0 / (1 + np.exp(-x))\n",
    "        return y\n",
    "\n",
    "    def _sigmoid_derivative(self , x ) :\n",
    "        return x * ( 1.0 - x );\n",
    "\n",
    "    def back_propagate(self , error):\n",
    "        \n",
    "        # dE/dW_i = (y - a_[i+1]) * s'(h_[i+1]) * a_i\n",
    "        # s'(h_[i+1]) = s(h_[i+1]) * (1 - s(h_[i+1]))\n",
    "        # s(h_[i+1]) = a_[i+1]\n",
    "\n",
    "        # error = ( y - a[i + 1] )\n",
    "        # delta = error * sigmoid_derivative\n",
    "\n",
    "        # dE/dW_[i-1] = (y - a_[i+1]) * s'(h_[i+1]) * W_i * s'(h_i) * a_[i-1]\n",
    "        #error =  (y - a_[i+1]) * s'(h_[i+1]) * W_i\n",
    "        \n",
    "        for i in reversed( range(len(self.derivatives))):   # this is like starting from the last index\n",
    "            activations = self.activations[i + 1]\n",
    "\n",
    "            delta = error * self._sigmoid_derivative( activations ) \n",
    "            current_activations = self.activations[i] # a[i]\n",
    "\n",
    "            #this is for simplifying the multiplication\n",
    "            delta_reshaped = delta.reshape( delta.shape[0] , -1 ) # [0 , 1 , 2] --> [ [0] , [1] , [2] ] as matrix shape\n",
    "\n",
    "            current_activations_reshaped = current_activations.reshape( current_activations.shape[0] , -1 )\n",
    "\n",
    "            self.derivative[i] = np.dot(current_activations_reshaped , delta_reshaped.T ) \n",
    "            \n",
    "            error = np.dot ( delta , self.weights[i].T )\n",
    "        "
   ]
  },
  {
   "cell_type": "code",
   "execution_count": 56,
   "id": "a2ab2356-9078-4fa0-aeee-c153319b8951",
   "metadata": {},
   "outputs": [
    {
     "name": "stdout",
     "output_type": "stream",
     "text": [
      "3\n",
      "[[4]\n",
      " [5]\n",
      " [6]]\n"
     ]
    }
   ],
   "source": [
    "import numpy as np\n",
    "\n",
    "x = np.array([ 4 , 5 , 6 ])  # 2D array\n",
    "\n",
    "print ( x.shape[0] ) \n",
    "print(x.reshape( 3 , -1))  # Output: (2, 3)\n"
   ]
  },
  {
   "cell_type": "code",
   "execution_count": 13,
   "id": "fc944c81-7ab7-4268-9271-7f69596241b1",
   "metadata": {},
   "outputs": [
    {
     "name": "stdout",
     "output_type": "stream",
     "text": [
      "Network activation: [0.55733757 0.38513636 0.31417448]\n",
      "Network activation: [0.74464212 0.64618731]\n"
     ]
    }
   ],
   "source": [
    "\n",
    "if __name__ == \"__main__\":\n",
    "\n",
    "    # create a Multilayer Perceptron\n",
    "    mlp = MLP()\n",
    "\n",
    "    # set random values for network's input\n",
    "    inputs = np.random.rand(mlp.num_inputs)\n",
    "\n",
    "    # perform forward propagation\n",
    "    output = mlp.forward_propagate(inputs)\n",
    "\n",
    "    print(\"Network activation: {}\".format(inputs))\n",
    "    print(\"Network activation: {}\".format(output))"
   ]
  },
  {
   "cell_type": "code",
   "execution_count": 14,
   "id": "2f62b5bc-47f8-4a99-a6b6-81ddab783ecf",
   "metadata": {},
   "outputs": [
    {
     "name": "stdout",
     "output_type": "stream",
     "text": [
      "5\n",
      "4\n",
      "3\n",
      "2\n",
      "1\n",
      "0\n"
     ]
    }
   ],
   "source": [
    " x = [ 0 , 0 , 0 , 0 , 0 ,  0] \n",
    "for i in reversed( range(len(x))):\n",
    "    print(i)"
   ]
  },
  {
   "cell_type": "code",
   "execution_count": null,
   "id": "b860fbc7-3240-4dbd-bb79-d39a86c5fd57",
   "metadata": {},
   "outputs": [],
   "source": []
  }
 ],
 "metadata": {
  "kernelspec": {
   "display_name": "Python 3 (ipykernel)",
   "language": "python",
   "name": "python3"
  },
  "language_info": {
   "codemirror_mode": {
    "name": "ipython",
    "version": 3
   },
   "file_extension": ".py",
   "mimetype": "text/x-python",
   "name": "python",
   "nbconvert_exporter": "python",
   "pygments_lexer": "ipython3",
   "version": "3.10.0"
  }
 },
 "nbformat": 4,
 "nbformat_minor": 5
}
