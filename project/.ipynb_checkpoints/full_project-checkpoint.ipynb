{
 "cells": [
  {
   "cell_type": "code",
   "execution_count": 14,
   "id": "cef5fe06-ef09-4341-bb0a-d81f2d837a33",
   "metadata": {},
   "outputs": [
    {
     "name": "stdout",
     "output_type": "stream",
     "text": [
      "Traitement du mot : eight\n",
      "Traitement du mot : five\n",
      "Traitement du mot : four\n",
      "Traitement du mot : nine\n",
      "Traitement du mot : one\n",
      "Traitement du mot : seven\n",
      "Traitement du mot : six\n",
      "Traitement du mot : three\n",
      "Traitement du mot : two\n",
      "Traitement du mot : zero\n",
      "Nombre d'échantillons : 1000\n",
      "Dimension finale des vecteurs 1D : (1000, 45100)\n",
      "Exemple de vecteur : [0.61905396 2.014276   2.7119567  1.4363604  0.98987854 2.7197876\n",
      " 2.614315   1.5188587  1.7744436  2.1981432 ]\n"
     ]
    }
   ],
   "source": [
    "import os\n",
    "import numpy as np\n",
    "import librosa\n",
    "\n",
    "# Chemin du dossier principal\n",
    "data_path = r\"C:\\Users\\lenovo\\Desktop\\animals_sound\"\n",
    "\n",
    "# Paramètres\n",
    "hop_length = 512\n",
    "n_fft = 2048\n",
    "sr = 22050 *2\n",
    "fixed_length = 45100  # Longueur fixe des vecteurs 1D\n",
    "\n",
    "# Stockage des données\n",
    "X = []\n",
    "y = []\n",
    "\n",
    "counter = 0 \n",
    "# Parcourir les sous-dossiers (mots)\n",
    "for word in os.listdir(data_path):\n",
    "    word_path = os.path.join(data_path, word)\n",
    "    \n",
    "    if os.path.isdir(word_path):  \n",
    "        print(f\"Traitement du mot : {word}\")\n",
    "        counter = 0\n",
    "        for file in os.listdir(word_path):\n",
    "            if file.endswith(\".wav\"):\n",
    "                file_path = os.path.join(word_path, file)\n",
    "\n",
    "                if ( counter == 100 ):\n",
    "                    break\n",
    "                \n",
    "                signal, _ = librosa.load(file_path, sr=sr)\n",
    "                \n",
    "                \n",
    "                stft = librosa.stft(signal, n_fft=n_fft, hop_length=hop_length)\n",
    "                spectrogram = np.abs(stft)\n",
    "                spectrogram_flat = spectrogram.flatten()  \n",
    "                \n",
    "                if len(spectrogram_flat) > fixed_length:\n",
    "                    spectrogram_flat = spectrogram_flat[:fixed_length] \n",
    "                else:\n",
    "                    spectrogram_flat = np.pad(spectrogram_flat, (0, fixed_length - len(spectrogram_flat)))  \n",
    "\n",
    "                X.append(spectrogram_flat)\n",
    "                y.append(word)\n",
    "                counter = counter + 1 \n",
    "\n",
    "X = np.array(X)\n",
    "y = np.array(y)\n",
    "\n",
    "print(\"Nombre d'échantillons :\", len(X))\n",
    "print(\"Dimension finale des vecteurs 1D :\", X.shape)\n",
    "print(\"Exemple de vecteur :\", X[0][:10])  # Afficher les 10 premières valeurs du 1er vecteur"
   ]
  },
  {
   "cell_type": "code",
   "execution_count": 3,
   "id": "c1172700-b73c-4724-a206-de3dff589043",
   "metadata": {},
   "outputs": [],
   "source": [
    "import os\n",
    "import numpy as np\n",
    "import librosa\n",
    "\n",
    "X = np.array([])\n",
    "y = np.array([])\n",
    "\n",
    "with np.load(\"./digits_data.npz\") as data :\n",
    "    X = data[\"first\"]\n",
    "    y = data[\"second\"]"
   ]
  },
  {
   "cell_type": "code",
   "execution_count": null,
   "id": "840a2b69-ca98-47bd-96cc-78ef89cd5954",
   "metadata": {},
   "outputs": [],
   "source": []
  },
  {
   "cell_type": "code",
   "execution_count": 16,
   "id": "874f2c8f-b3c9-4bff-b989-0fcb61744a9c",
   "metadata": {},
   "outputs": [],
   "source": [
    "import tensorflow as tf\n",
    "from tensorflow import keras\n",
    "from sklearn.preprocessing import LabelEncoder\n",
    "from sklearn.model_selection import train_test_split\n",
    "\n",
    "# Encodage des labels en nombres\n",
    "label_encoder = LabelEncoder()\n",
    "y_encoded = label_encoder.fit_transform(y)  \n",
    "\n",
    "# Séparation en entraînement et test\n",
    "X_train, X_test, y_train, y_test = train_test_split(X, y_encoded, test_size=0.2, random_state=42)\n"
   ]
  },
  {
   "cell_type": "code",
   "execution_count": 15,
   "id": "072a9dc3-3ba1-428f-9eb8-585e3f1d9fab",
   "metadata": {},
   "outputs": [
    {
     "data": {
      "text/html": [
       "<pre style=\"white-space:pre;overflow-x:auto;line-height:normal;font-family:Menlo,'DejaVu Sans Mono',consolas,'Courier New',monospace\"><span style=\"font-weight: bold\">Model: \"sequential_3\"</span>\n",
       "</pre>\n"
      ],
      "text/plain": [
       "\u001b[1mModel: \"sequential_3\"\u001b[0m\n"
      ]
     },
     "metadata": {},
     "output_type": "display_data"
    },
    {
     "data": {
      "text/html": [
       "<pre style=\"white-space:pre;overflow-x:auto;line-height:normal;font-family:Menlo,'DejaVu Sans Mono',consolas,'Courier New',monospace\">┏━━━━━━━━━━━━━━━━━━━━━━━━━━━━━━━━━━━━━━┳━━━━━━━━━━━━━━━━━━━━━━━━━━━━━┳━━━━━━━━━━━━━━━━━┓\n",
       "┃<span style=\"font-weight: bold\"> Layer (type)                         </span>┃<span style=\"font-weight: bold\"> Output Shape                </span>┃<span style=\"font-weight: bold\">         Param # </span>┃\n",
       "┡━━━━━━━━━━━━━━━━━━━━━━━━━━━━━━━━━━━━━━╇━━━━━━━━━━━━━━━━━━━━━━━━━━━━━╇━━━━━━━━━━━━━━━━━┩\n",
       "│ dense_12 (<span style=\"color: #0087ff; text-decoration-color: #0087ff\">Dense</span>)                     │ (<span style=\"color: #00d7ff; text-decoration-color: #00d7ff\">None</span>, <span style=\"color: #00af00; text-decoration-color: #00af00\">512</span>)                 │      <span style=\"color: #00af00; text-decoration-color: #00af00\">23,091,712</span> │\n",
       "├──────────────────────────────────────┼─────────────────────────────┼─────────────────┤\n",
       "│ dropout_6 (<span style=\"color: #0087ff; text-decoration-color: #0087ff\">Dropout</span>)                  │ (<span style=\"color: #00d7ff; text-decoration-color: #00d7ff\">None</span>, <span style=\"color: #00af00; text-decoration-color: #00af00\">512</span>)                 │               <span style=\"color: #00af00; text-decoration-color: #00af00\">0</span> │\n",
       "├──────────────────────────────────────┼─────────────────────────────┼─────────────────┤\n",
       "│ dense_13 (<span style=\"color: #0087ff; text-decoration-color: #0087ff\">Dense</span>)                     │ (<span style=\"color: #00d7ff; text-decoration-color: #00d7ff\">None</span>, <span style=\"color: #00af00; text-decoration-color: #00af00\">256</span>)                 │         <span style=\"color: #00af00; text-decoration-color: #00af00\">131,328</span> │\n",
       "├──────────────────────────────────────┼─────────────────────────────┼─────────────────┤\n",
       "│ dropout_7 (<span style=\"color: #0087ff; text-decoration-color: #0087ff\">Dropout</span>)                  │ (<span style=\"color: #00d7ff; text-decoration-color: #00d7ff\">None</span>, <span style=\"color: #00af00; text-decoration-color: #00af00\">256</span>)                 │               <span style=\"color: #00af00; text-decoration-color: #00af00\">0</span> │\n",
       "├──────────────────────────────────────┼─────────────────────────────┼─────────────────┤\n",
       "│ dense_14 (<span style=\"color: #0087ff; text-decoration-color: #0087ff\">Dense</span>)                     │ (<span style=\"color: #00d7ff; text-decoration-color: #00d7ff\">None</span>, <span style=\"color: #00af00; text-decoration-color: #00af00\">128</span>)                 │          <span style=\"color: #00af00; text-decoration-color: #00af00\">32,896</span> │\n",
       "├──────────────────────────────────────┼─────────────────────────────┼─────────────────┤\n",
       "│ dense_15 (<span style=\"color: #0087ff; text-decoration-color: #0087ff\">Dense</span>)                     │ (<span style=\"color: #00d7ff; text-decoration-color: #00d7ff\">None</span>, <span style=\"color: #00af00; text-decoration-color: #00af00\">10</span>)                  │           <span style=\"color: #00af00; text-decoration-color: #00af00\">1,290</span> │\n",
       "└──────────────────────────────────────┴─────────────────────────────┴─────────────────┘\n",
       "</pre>\n"
      ],
      "text/plain": [
       "┏━━━━━━━━━━━━━━━━━━━━━━━━━━━━━━━━━━━━━━┳━━━━━━━━━━━━━━━━━━━━━━━━━━━━━┳━━━━━━━━━━━━━━━━━┓\n",
       "┃\u001b[1m \u001b[0m\u001b[1mLayer (type)                        \u001b[0m\u001b[1m \u001b[0m┃\u001b[1m \u001b[0m\u001b[1mOutput Shape               \u001b[0m\u001b[1m \u001b[0m┃\u001b[1m \u001b[0m\u001b[1m        Param #\u001b[0m\u001b[1m \u001b[0m┃\n",
       "┡━━━━━━━━━━━━━━━━━━━━━━━━━━━━━━━━━━━━━━╇━━━━━━━━━━━━━━━━━━━━━━━━━━━━━╇━━━━━━━━━━━━━━━━━┩\n",
       "│ dense_12 (\u001b[38;5;33mDense\u001b[0m)                     │ (\u001b[38;5;45mNone\u001b[0m, \u001b[38;5;34m512\u001b[0m)                 │      \u001b[38;5;34m23,091,712\u001b[0m │\n",
       "├──────────────────────────────────────┼─────────────────────────────┼─────────────────┤\n",
       "│ dropout_6 (\u001b[38;5;33mDropout\u001b[0m)                  │ (\u001b[38;5;45mNone\u001b[0m, \u001b[38;5;34m512\u001b[0m)                 │               \u001b[38;5;34m0\u001b[0m │\n",
       "├──────────────────────────────────────┼─────────────────────────────┼─────────────────┤\n",
       "│ dense_13 (\u001b[38;5;33mDense\u001b[0m)                     │ (\u001b[38;5;45mNone\u001b[0m, \u001b[38;5;34m256\u001b[0m)                 │         \u001b[38;5;34m131,328\u001b[0m │\n",
       "├──────────────────────────────────────┼─────────────────────────────┼─────────────────┤\n",
       "│ dropout_7 (\u001b[38;5;33mDropout\u001b[0m)                  │ (\u001b[38;5;45mNone\u001b[0m, \u001b[38;5;34m256\u001b[0m)                 │               \u001b[38;5;34m0\u001b[0m │\n",
       "├──────────────────────────────────────┼─────────────────────────────┼─────────────────┤\n",
       "│ dense_14 (\u001b[38;5;33mDense\u001b[0m)                     │ (\u001b[38;5;45mNone\u001b[0m, \u001b[38;5;34m128\u001b[0m)                 │          \u001b[38;5;34m32,896\u001b[0m │\n",
       "├──────────────────────────────────────┼─────────────────────────────┼─────────────────┤\n",
       "│ dense_15 (\u001b[38;5;33mDense\u001b[0m)                     │ (\u001b[38;5;45mNone\u001b[0m, \u001b[38;5;34m10\u001b[0m)                  │           \u001b[38;5;34m1,290\u001b[0m │\n",
       "└──────────────────────────────────────┴─────────────────────────────┴─────────────────┘\n"
      ]
     },
     "metadata": {},
     "output_type": "display_data"
    },
    {
     "data": {
      "text/html": [
       "<pre style=\"white-space:pre;overflow-x:auto;line-height:normal;font-family:Menlo,'DejaVu Sans Mono',consolas,'Courier New',monospace\"><span style=\"font-weight: bold\"> Total params: </span><span style=\"color: #00af00; text-decoration-color: #00af00\">23,257,226</span> (88.72 MB)\n",
       "</pre>\n"
      ],
      "text/plain": [
       "\u001b[1m Total params: \u001b[0m\u001b[38;5;34m23,257,226\u001b[0m (88.72 MB)\n"
      ]
     },
     "metadata": {},
     "output_type": "display_data"
    },
    {
     "data": {
      "text/html": [
       "<pre style=\"white-space:pre;overflow-x:auto;line-height:normal;font-family:Menlo,'DejaVu Sans Mono',consolas,'Courier New',monospace\"><span style=\"font-weight: bold\"> Trainable params: </span><span style=\"color: #00af00; text-decoration-color: #00af00\">23,257,226</span> (88.72 MB)\n",
       "</pre>\n"
      ],
      "text/plain": [
       "\u001b[1m Trainable params: \u001b[0m\u001b[38;5;34m23,257,226\u001b[0m (88.72 MB)\n"
      ]
     },
     "metadata": {},
     "output_type": "display_data"
    },
    {
     "data": {
      "text/html": [
       "<pre style=\"white-space:pre;overflow-x:auto;line-height:normal;font-family:Menlo,'DejaVu Sans Mono',consolas,'Courier New',monospace\"><span style=\"font-weight: bold\"> Non-trainable params: </span><span style=\"color: #00af00; text-decoration-color: #00af00\">0</span> (0.00 B)\n",
       "</pre>\n"
      ],
      "text/plain": [
       "\u001b[1m Non-trainable params: \u001b[0m\u001b[38;5;34m0\u001b[0m (0.00 B)\n"
      ]
     },
     "metadata": {},
     "output_type": "display_data"
    }
   ],
   "source": [
    "\n",
    "# Construction du modèle MLP\n",
    "model = keras.Sequential([\n",
    "    keras.layers.Input(shape=(X.shape[1],)),  # Entrée avec shape (fixed_length,)\n",
    "    \n",
    "    keras.layers.Dense(512, activation='relu'),\n",
    "    keras.layers.Dropout(0.3),  # Régularisation pour éviter l'overfitting\n",
    "    \n",
    "    keras.layers.Dense(256, activation='relu'),\n",
    "    keras.layers.Dropout(0.3),\n",
    "    \n",
    "    keras.layers.Dense(128, activation='relu'),\n",
    "    \n",
    "    keras.layers.Dense(len(set(y)), activation='softmax')  # Sortie avec softmax pour classification\n",
    "])\n",
    "\n",
    "# Compilation du modèle\n",
    "model.compile(optimizer='adam', loss='sparse_categorical_crossentropy', metrics=['accuracy'])\n",
    "\n",
    "# Affichage du résumé\n",
    "model.summary()\n",
    "\n",
    "\n",
    "\n",
    "\n"
   ]
  },
  {
   "cell_type": "code",
   "execution_count": null,
   "id": "df1a3889-41fd-4817-b80d-82364735cf83",
   "metadata": {},
   "outputs": [],
   "source": []
  },
  {
   "cell_type": "code",
   "execution_count": 19,
   "id": "f0856e3f-be9b-490c-8146-d2a756e0f933",
   "metadata": {},
   "outputs": [
    {
     "name": "stdout",
     "output_type": "stream",
     "text": [
      "\u001b[1m425/425\u001b[0m \u001b[32m━━━━━━━━━━━━━━━━━━━━\u001b[0m\u001b[37m\u001b[0m \u001b[1m135s\u001b[0m 318ms/step - accuracy: 0.5041 - loss: 1.6569 - val_accuracy: 0.6121 - val_loss: 1.2963\n",
      "\u001b[1m107/107\u001b[0m \u001b[32m━━━━━━━━━━━━━━━━━━━━\u001b[0m\u001b[37m\u001b[0m \u001b[1m4s\u001b[0m 39ms/step - accuracy: 0.6083 - loss: 1.3036\n",
      "Test accuracy: 61.21%\n"
     ]
    }
   ],
   "source": [
    "# Entraînement du modèle\n",
    "model.fit(X_train, y_train, epochs=1, batch_size=32, validation_data=(X_test, y_test))\n",
    "\n",
    "# Évaluation du modèle\n",
    "test_loss, test_acc = model.evaluate(X_test, y_test)\n",
    "print(f\"Test accuracy: {test_acc * 100:.2f}%\")\n"
   ]
  },
  {
   "cell_type": "code",
   "execution_count": null,
   "id": "b4feb088-cff1-4768-a65b-8e020fac76a1",
   "metadata": {},
   "outputs": [],
   "source": []
  },
  {
   "cell_type": "code",
   "execution_count": null,
   "id": "e9bf62e0-43fa-4c49-a569-356e1c19171a",
   "metadata": {},
   "outputs": [],
   "source": []
  },
  {
   "cell_type": "code",
   "execution_count": 10,
   "id": "419d8b69-3940-4838-8e00-a874b072e442",
   "metadata": {},
   "outputs": [],
   "source": [
    "import tensorflow as tf\n",
    "model = tf.keras.models.load_model(\"./models/model_2.keras\")"
   ]
  },
  {
   "cell_type": "code",
   "execution_count": 20,
   "id": "c8b7c1b2-3191-45bd-9382-2367154f053c",
   "metadata": {},
   "outputs": [
    {
     "data": {
      "image/png": "[encoded data removed]",
      "text/plain": [
       "<Figure size 640x480 with 2 Axes>"
      ]
     },
     "metadata": {},
     "output_type": "display_data"
    }
   ],
   "source": [
    "import matplotlib.pyplot as plt\n",
    "def plot_history(history):\n",
    "\n",
    "    fig, axs = plt.subplots(2)\n",
    "\n",
    "    # create accuracy sublpot\n",
    "    axs[0].plot(history.history[\"accuracy\"], label=\"train accuracy\")\n",
    "    axs[0].plot(history.history[\"val_accuracy\"], label=\"test accuracy\")\n",
    "    axs[0].set_ylabel(\"Accuracy\")\n",
    "    axs[0].legend(loc=\"lower right\")\n",
    "    axs[0].set_title(\"Accuracy eval\")\n",
    "\n",
    "    # create error sublpot\n",
    "    axs[1].plot(history.history[\"loss\"], label=\"train error\")\n",
    "    axs[1].plot(history.history[\"val_loss\"], label=\"test error\")\n",
    "    axs[1].set_ylabel(\"Error\")\n",
    "    axs[1].set_xlabel(\"Epoch\")\n",
    "    axs[1].legend(loc=\"upper right\")\n",
    "    axs[1].set_title(\"Error eval\")\n",
    "\n",
    "    plt.show()\n",
    "\n",
    "\n",
    "\n",
    "plot_history(model.history)\n"
   ]
  },
  {
   "cell_type": "code",
   "execution_count": null,
   "id": "90074fe5-2519-44d2-9c95-fe96d1251aaf",
   "metadata": {},
   "outputs": [],
   "source": []
  },
  {
   "cell_type": "code",
   "execution_count": null,
   "id": "673d940c-f87c-4a1d-a3d8-1021ca0f4184",
   "metadata": {},
   "outputs": [],
   "source": []
  },
  {
   "cell_type": "code",
   "execution_count": null,
   "id": "37dfff22-5637-4302-8dc6-59ffffcc59f0",
   "metadata": {},
   "outputs": [],
   "source": []
  },
  {
   "cell_type": "code",
   "execution_count": 13,
   "id": "81612da6-2043-4437-bd06-1bf0b84c5254",
   "metadata": {},
   "outputs": [
    {
     "name": "stdout",
     "output_type": "stream",
     "text": [
      "🎤 Enregistrement en cours...\n",
      "✅ Enregistrement terminé.\n",
      "\u001b[1m1/1\u001b[0m \u001b[32m━━━━━━━━━━━━━━━━━━━━\u001b[0m\u001b[37m\u001b[0m \u001b[1m0s\u001b[0m 110ms/step\n",
      "🗣️ Mot prédit : bird\n"
     ]
    }
   ],
   "source": [
    "import sounddevice as sd\n",
    "import numpy as np\n",
    "import librosa\n",
    "import tensorflow as tf\n",
    "import os\n",
    "\n",
    "# Paramètres\n",
    "duration = 2  # Durée de l'enregistrement (en secondes)\n",
    "sr = 22050  # Taux d'échantillonnage\n",
    "n_fft = 2048\n",
    "hop_length = 512\n",
    "fixed_length = 10000  # Taille des vecteurs 1D\n",
    "\n",
    "# Charger le modèle entraîné (modifié pour utiliser le format .keras)\n",
    "model = tf.keras.models.load_model(r\"C:\\Users\\pc\\Desktop\\models\\modele_reconnaissance_vocale.keras\")\n",
    "\n",
    "# Liste des mots utilisés dans l'entraînement (à adapter selon ton dataset)\n",
    "words = os.listdir(r\"C:\\Users\\pc\\Desktop\\lst sdid\\S6\\machine learning\\projet de la reconnaissance vocale\\data\\archive\")\n",
    "\n",
    "def record_audio(duration, sr):\n",
    "    print(\"🎤 Enregistrement en cours...\")\n",
    "    audio = sd.rec(int(duration * sr), samplerate=sr, channels=1, dtype=np.float32)\n",
    "    sd.wait()\n",
    "    print(\"✅ Enregistrement terminé.\")\n",
    "    return audio.flatten()\n",
    "\n",
    "def extract_features(signal, sr):\n",
    "    stft = librosa.stft(signal, n_fft=n_fft, hop_length=hop_length)\n",
    "    spectrogram = np.abs(stft)\n",
    "    spectrogram_flat = spectrogram.flatten()\n",
    "\n",
    "    # Ajuster la taille\n",
    "    if len(spectrogram_flat) > fixed_length:\n",
    "        spectrogram_flat = spectrogram_flat[:fixed_length]\n",
    "    else:\n",
    "        spectrogram_flat = np.pad(spectrogram_flat, (0, fixed_length - len(spectrogram_flat)))\n",
    "\n",
    "    return np.array([spectrogram_flat])  # Ajouter une dimension pour le modèle\n",
    "\n",
    "# 🎤 Enregistrer la voix\n",
    "audio_signal = record_audio(duration, sr)\n",
    "\n",
    "# 🔍 Extraire les caractéristiques\n",
    "X_test = extract_features(audio_signal, sr)\n",
    "\n",
    "# 🤖 Faire la prédiction\n",
    "prediction = model.predict(X_test)\n",
    "predicted_word = words[np.argmax(prediction)]  # Trouver le mot le plus probable\n",
    "\n",
    "print(f\"🗣️ Mot prédit : {predicted_word}\")\n"
   ]
  },
  {
   "cell_type": "code",
   "execution_count": null,
   "id": "b61e4093-0858-4787-8f72-849970bd0dc4",
   "metadata": {},
   "outputs": [],
   "source": []
  },
  {
   "cell_type": "code",
   "execution_count": null,
   "id": "b7799cc7-aed8-4e79-a987-feb4b8f9b1bd",
   "metadata": {},
   "outputs": [],
   "source": []
  },
  {
   "cell_type": "code",
   "execution_count": null,
   "id": "8a5e2a0f-9288-4e8a-9d72-92278541489e",
   "metadata": {},
   "outputs": [],
   "source": []
  }
 ],
 "metadata": {
  "kernelspec": {
   "display_name": "Python 3 (ipykernel)",
   "language": "python",
   "name": "python3"
  },
  "language_info": {
   "codemirror_mode": {
    "name": "ipython",
    "version": 3
   },
   "file_extension": ".py",
   "mimetype": "text/x-python",
   "name": "python",
   "nbconvert_exporter": "python",
   "pygments_lexer": "ipython3",
   "version": "3.10.0"
  }
 },
 "nbformat": 4,
 "nbformat_minor": 5
}
