{
 "cells": [
  {
   "cell_type": "code",
   "execution_count": 1,
   "id": "cef5fe06-ef09-4341-bb0a-d81f2d837a33",
   "metadata": {},
   "outputs": [
    {
     "name": "stdout",
     "output_type": "stream",
     "text": [
      "Traitement du mot : bird\n",
      "Traitement du mot : cat\n",
      "Traitement du mot : dog\n",
      "Nombre d'échantillons : 5210\n",
      "Dimension finale des vecteurs 1D : (5210, 10000)\n",
      "Exemple de vecteur : [0.05146055 0.0267677  0.00131186 0.00144741 0.0037231  0.00462118\n",
      " 0.00151353 0.00016141 0.00033609 0.00089991]\n"
     ]
    }
   ],
   "source": [
    "import os\n",
    "import numpy as np\n",
    "import librosa\n",
    "\n",
    "# Chemin du dossier principal\n",
    "data_path = r\"C:\\Users\\pc\\Desktop\\lst sdid\\S6\\machine learning\\projet de la reconnaissance vocale\\data\\archive\"\n",
    "\n",
    "# Paramètres\n",
    "hop_length = 512\n",
    "n_fft = 2048\n",
    "sr = 22050  \n",
    "fixed_length = 10000  # Longueur fixe des vecteurs 1D\n",
    "\n",
    "# Stockage des données\n",
    "X = []\n",
    "y = []\n",
    "\n",
    "# Parcourir les sous-dossiers (mots)\n",
    "for word in os.listdir(data_path):\n",
    "    word_path = os.path.join(data_path, word)\n",
    "    \n",
    "    if os.path.isdir(word_path):  \n",
    "        print(f\"Traitement du mot : {word}\")\n",
    "\n",
    "        for file in os.listdir(word_path):\n",
    "            if file.endswith(\".wav\"):\n",
    "                file_path = os.path.join(word_path, file)\n",
    "\n",
    "                # Charger le fichier audio\n",
    "                signal, _ = librosa.load(file_path, sr=sr)\n",
    "\n",
    "                # STFT - Spectrogramme\n",
    "                stft = librosa.stft(signal, n_fft=n_fft, hop_length=hop_length)\n",
    "                spectrogram = np.abs(stft)\n",
    "                spectrogram_flat = spectrogram.flatten()  # Transformation en vecteur 1D\n",
    "\n",
    "                # Ajuster la taille du vecteur\n",
    "                if len(spectrogram_flat) > fixed_length:\n",
    "                    spectrogram_flat = spectrogram_flat[:fixed_length]  # Tronquer\n",
    "                else:\n",
    "                    spectrogram_flat = np.pad(spectrogram_flat, (0, fixed_length - len(spectrogram_flat)))  # Ajouter des zéros\n",
    "\n",
    "                # Stocker les données\n",
    "                X.append(spectrogram_flat)\n",
    "                y.append(word)\n",
    "\n",
    "# Conversion en numpy array\n",
    "X = np.array(X)\n",
    "y = np.array(y)\n",
    "\n",
    "# Affichage des dimensions\n",
    "print(\"Nombre d'échantillons :\", len(X))\n",
    "print(\"Dimension finale des vecteurs 1D :\", X.shape)\n",
    "print(\"Exemple de vecteur :\", X[0][:10])  # Afficher les 10 premières valeurs du 1er vecteur"
   ]
  },
  {
   "cell_type": "code",
   "execution_count": 2,
   "id": "072a9dc3-3ba1-428f-9eb8-585e3f1d9fab",
   "metadata": {},
   "outputs": [
    {
     "data": {
      "text/html": [
       "<pre style=\"white-space:pre;overflow-x:auto;line-height:normal;font-family:Menlo,'DejaVu Sans Mono',consolas,'Courier New',monospace\"><span style=\"font-weight: bold\">Model: \"sequential\"</span>\n",
       "</pre>\n"
      ],
      "text/plain": [
       "\u001b[1mModel: \"sequential\"\u001b[0m\n"
      ]
     },
     "metadata": {},
     "output_type": "display_data"
    },
    {
     "data": {
      "text/html": [
       "<pre style=\"white-space:pre;overflow-x:auto;line-height:normal;font-family:Menlo,'DejaVu Sans Mono',consolas,'Courier New',monospace\">┏━━━━━━━━━━━━━━━━━━━━━━━━━━━━━━━━━━━━━━┳━━━━━━━━━━━━━━━━━━━━━━━━━━━━━┳━━━━━━━━━━━━━━━━━┓\n",
       "┃<span style=\"font-weight: bold\"> Layer (type)                         </span>┃<span style=\"font-weight: bold\"> Output Shape                </span>┃<span style=\"font-weight: bold\">         Param # </span>┃\n",
       "┡━━━━━━━━━━━━━━━━━━━━━━━━━━━━━━━━━━━━━━╇━━━━━━━━━━━━━━━━━━━━━━━━━━━━━╇━━━━━━━━━━━━━━━━━┩\n",
       "│ dense (<span style=\"color: #0087ff; text-decoration-color: #0087ff\">Dense</span>)                        │ (<span style=\"color: #00d7ff; text-decoration-color: #00d7ff\">None</span>, <span style=\"color: #00af00; text-decoration-color: #00af00\">512</span>)                 │       <span style=\"color: #00af00; text-decoration-color: #00af00\">5,120,512</span> │\n",
       "├──────────────────────────────────────┼─────────────────────────────┼─────────────────┤\n",
       "│ dropout (<span style=\"color: #0087ff; text-decoration-color: #0087ff\">Dropout</span>)                    │ (<span style=\"color: #00d7ff; text-decoration-color: #00d7ff\">None</span>, <span style=\"color: #00af00; text-decoration-color: #00af00\">512</span>)                 │               <span style=\"color: #00af00; text-decoration-color: #00af00\">0</span> │\n",
       "├──────────────────────────────────────┼─────────────────────────────┼─────────────────┤\n",
       "│ dense_1 (<span style=\"color: #0087ff; text-decoration-color: #0087ff\">Dense</span>)                      │ (<span style=\"color: #00d7ff; text-decoration-color: #00d7ff\">None</span>, <span style=\"color: #00af00; text-decoration-color: #00af00\">256</span>)                 │         <span style=\"color: #00af00; text-decoration-color: #00af00\">131,328</span> │\n",
       "├──────────────────────────────────────┼─────────────────────────────┼─────────────────┤\n",
       "│ dropout_1 (<span style=\"color: #0087ff; text-decoration-color: #0087ff\">Dropout</span>)                  │ (<span style=\"color: #00d7ff; text-decoration-color: #00d7ff\">None</span>, <span style=\"color: #00af00; text-decoration-color: #00af00\">256</span>)                 │               <span style=\"color: #00af00; text-decoration-color: #00af00\">0</span> │\n",
       "├──────────────────────────────────────┼─────────────────────────────┼─────────────────┤\n",
       "│ dense_2 (<span style=\"color: #0087ff; text-decoration-color: #0087ff\">Dense</span>)                      │ (<span style=\"color: #00d7ff; text-decoration-color: #00d7ff\">None</span>, <span style=\"color: #00af00; text-decoration-color: #00af00\">128</span>)                 │          <span style=\"color: #00af00; text-decoration-color: #00af00\">32,896</span> │\n",
       "├──────────────────────────────────────┼─────────────────────────────┼─────────────────┤\n",
       "│ dense_3 (<span style=\"color: #0087ff; text-decoration-color: #0087ff\">Dense</span>)                      │ (<span style=\"color: #00d7ff; text-decoration-color: #00d7ff\">None</span>, <span style=\"color: #00af00; text-decoration-color: #00af00\">3</span>)                   │             <span style=\"color: #00af00; text-decoration-color: #00af00\">387</span> │\n",
       "└──────────────────────────────────────┴─────────────────────────────┴─────────────────┘\n",
       "</pre>\n"
      ],
      "text/plain": [
       "┏━━━━━━━━━━━━━━━━━━━━━━━━━━━━━━━━━━━━━━┳━━━━━━━━━━━━━━━━━━━━━━━━━━━━━┳━━━━━━━━━━━━━━━━━┓\n",
       "┃\u001b[1m \u001b[0m\u001b[1mLayer (type)                        \u001b[0m\u001b[1m \u001b[0m┃\u001b[1m \u001b[0m\u001b[1mOutput Shape               \u001b[0m\u001b[1m \u001b[0m┃\u001b[1m \u001b[0m\u001b[1m        Param #\u001b[0m\u001b[1m \u001b[0m┃\n",
       "┡━━━━━━━━━━━━━━━━━━━━━━━━━━━━━━━━━━━━━━╇━━━━━━━━━━━━━━━━━━━━━━━━━━━━━╇━━━━━━━━━━━━━━━━━┩\n",
       "│ dense (\u001b[38;5;33mDense\u001b[0m)                        │ (\u001b[38;5;45mNone\u001b[0m, \u001b[38;5;34m512\u001b[0m)                 │       \u001b[38;5;34m5,120,512\u001b[0m │\n",
       "├──────────────────────────────────────┼─────────────────────────────┼─────────────────┤\n",
       "│ dropout (\u001b[38;5;33mDropout\u001b[0m)                    │ (\u001b[38;5;45mNone\u001b[0m, \u001b[38;5;34m512\u001b[0m)                 │               \u001b[38;5;34m0\u001b[0m │\n",
       "├──────────────────────────────────────┼─────────────────────────────┼─────────────────┤\n",
       "│ dense_1 (\u001b[38;5;33mDense\u001b[0m)                      │ (\u001b[38;5;45mNone\u001b[0m, \u001b[38;5;34m256\u001b[0m)                 │         \u001b[38;5;34m131,328\u001b[0m │\n",
       "├──────────────────────────────────────┼─────────────────────────────┼─────────────────┤\n",
       "│ dropout_1 (\u001b[38;5;33mDropout\u001b[0m)                  │ (\u001b[38;5;45mNone\u001b[0m, \u001b[38;5;34m256\u001b[0m)                 │               \u001b[38;5;34m0\u001b[0m │\n",
       "├──────────────────────────────────────┼─────────────────────────────┼─────────────────┤\n",
       "│ dense_2 (\u001b[38;5;33mDense\u001b[0m)                      │ (\u001b[38;5;45mNone\u001b[0m, \u001b[38;5;34m128\u001b[0m)                 │          \u001b[38;5;34m32,896\u001b[0m │\n",
       "├──────────────────────────────────────┼─────────────────────────────┼─────────────────┤\n",
       "│ dense_3 (\u001b[38;5;33mDense\u001b[0m)                      │ (\u001b[38;5;45mNone\u001b[0m, \u001b[38;5;34m3\u001b[0m)                   │             \u001b[38;5;34m387\u001b[0m │\n",
       "└──────────────────────────────────────┴─────────────────────────────┴─────────────────┘\n"
      ]
     },
     "metadata": {},
     "output_type": "display_data"
    },
    {
     "data": {
      "text/html": [
       "<pre style=\"white-space:pre;overflow-x:auto;line-height:normal;font-family:Menlo,'DejaVu Sans Mono',consolas,'Courier New',monospace\"><span style=\"font-weight: bold\"> Total params: </span><span style=\"color: #00af00; text-decoration-color: #00af00\">5,285,123</span> (20.16 MB)\n",
       "</pre>\n"
      ],
      "text/plain": [
       "\u001b[1m Total params: \u001b[0m\u001b[38;5;34m5,285,123\u001b[0m (20.16 MB)\n"
      ]
     },
     "metadata": {},
     "output_type": "display_data"
    },
    {
     "data": {
      "text/html": [
       "<pre style=\"white-space:pre;overflow-x:auto;line-height:normal;font-family:Menlo,'DejaVu Sans Mono',consolas,'Courier New',monospace\"><span style=\"font-weight: bold\"> Trainable params: </span><span style=\"color: #00af00; text-decoration-color: #00af00\">5,285,123</span> (20.16 MB)\n",
       "</pre>\n"
      ],
      "text/plain": [
       "\u001b[1m Trainable params: \u001b[0m\u001b[38;5;34m5,285,123\u001b[0m (20.16 MB)\n"
      ]
     },
     "metadata": {},
     "output_type": "display_data"
    },
    {
     "data": {
      "text/html": [
       "<pre style=\"white-space:pre;overflow-x:auto;line-height:normal;font-family:Menlo,'DejaVu Sans Mono',consolas,'Courier New',monospace\"><span style=\"font-weight: bold\"> Non-trainable params: </span><span style=\"color: #00af00; text-decoration-color: #00af00\">0</span> (0.00 B)\n",
       "</pre>\n"
      ],
      "text/plain": [
       "\u001b[1m Non-trainable params: \u001b[0m\u001b[38;5;34m0\u001b[0m (0.00 B)\n"
      ]
     },
     "metadata": {},
     "output_type": "display_data"
    },
    {
     "name": "stdout",
     "output_type": "stream",
     "text": [
      "Epoch 1/20\n",
      "\u001b[1m131/131\u001b[0m \u001b[32m━━━━━━━━━━━━━━━━━━━━\u001b[0m\u001b[37m\u001b[0m \u001b[1m9s\u001b[0m 44ms/step - accuracy: 0.6517 - loss: 0.7890 - val_accuracy: 0.8541 - val_loss: 0.4107\n",
      "Epoch 2/20\n",
      "\u001b[1m131/131\u001b[0m \u001b[32m━━━━━━━━━━━━━━━━━━━━\u001b[0m\u001b[37m\u001b[0m \u001b[1m5s\u001b[0m 41ms/step - accuracy: 0.8868 - loss: 0.3165 - val_accuracy: 0.8637 - val_loss: 0.3567\n",
      "Epoch 3/20\n",
      "\u001b[1m131/131\u001b[0m \u001b[32m━━━━━━━━━━━━━━━━━━━━\u001b[0m\u001b[37m\u001b[0m \u001b[1m5s\u001b[0m 41ms/step - accuracy: 0.9021 - loss: 0.2825 - val_accuracy: 0.8743 - val_loss: 0.3288\n",
      "Epoch 4/20\n",
      "\u001b[1m131/131\u001b[0m \u001b[32m━━━━━━━━━━━━━━━━━━━━\u001b[0m\u001b[37m\u001b[0m \u001b[1m5s\u001b[0m 41ms/step - accuracy: 0.9159 - loss: 0.2480 - val_accuracy: 0.8656 - val_loss: 0.3415\n",
      "Epoch 5/20\n",
      "\u001b[1m131/131\u001b[0m \u001b[32m━━━━━━━━━━━━━━━━━━━━\u001b[0m\u001b[37m\u001b[0m \u001b[1m6s\u001b[0m 42ms/step - accuracy: 0.9196 - loss: 0.2346 - val_accuracy: 0.8896 - val_loss: 0.3127\n",
      "Epoch 6/20\n",
      "\u001b[1m131/131\u001b[0m \u001b[32m━━━━━━━━━━━━━━━━━━━━\u001b[0m\u001b[37m\u001b[0m \u001b[1m5s\u001b[0m 41ms/step - accuracy: 0.9223 - loss: 0.2161 - val_accuracy: 0.8666 - val_loss: 0.3706\n",
      "Epoch 7/20\n",
      "\u001b[1m131/131\u001b[0m \u001b[32m━━━━━━━━━━━━━━━━━━━━\u001b[0m\u001b[37m\u001b[0m \u001b[1m5s\u001b[0m 41ms/step - accuracy: 0.9240 - loss: 0.2132 - val_accuracy: 0.8973 - val_loss: 0.3153\n",
      "Epoch 8/20\n",
      "\u001b[1m131/131\u001b[0m \u001b[32m━━━━━━━━━━━━━━━━━━━━\u001b[0m\u001b[37m\u001b[0m \u001b[1m5s\u001b[0m 41ms/step - accuracy: 0.9340 - loss: 0.1975 - val_accuracy: 0.8973 - val_loss: 0.2999\n",
      "Epoch 9/20\n",
      "\u001b[1m131/131\u001b[0m \u001b[32m━━━━━━━━━━━━━━━━━━━━\u001b[0m\u001b[37m\u001b[0m \u001b[1m5s\u001b[0m 41ms/step - accuracy: 0.9336 - loss: 0.2028 - val_accuracy: 0.8992 - val_loss: 0.2801\n",
      "Epoch 10/20\n",
      "\u001b[1m131/131\u001b[0m \u001b[32m━━━━━━━━━━━━━━━━━━━━\u001b[0m\u001b[37m\u001b[0m \u001b[1m5s\u001b[0m 40ms/step - accuracy: 0.9392 - loss: 0.1736 - val_accuracy: 0.8877 - val_loss: 0.3178\n",
      "Epoch 11/20\n",
      "\u001b[1m131/131\u001b[0m \u001b[32m━━━━━━━━━━━━━━━━━━━━\u001b[0m\u001b[37m\u001b[0m \u001b[1m5s\u001b[0m 40ms/step - accuracy: 0.9398 - loss: 0.1834 - val_accuracy: 0.9050 - val_loss: 0.2905\n",
      "Epoch 12/20\n",
      "\u001b[1m131/131\u001b[0m \u001b[32m━━━━━━━━━━━━━━━━━━━━\u001b[0m\u001b[37m\u001b[0m \u001b[1m5s\u001b[0m 40ms/step - accuracy: 0.9516 - loss: 0.1542 - val_accuracy: 0.8983 - val_loss: 0.3022\n",
      "Epoch 13/20\n",
      "\u001b[1m131/131\u001b[0m \u001b[32m━━━━━━━━━━━━━━━━━━━━\u001b[0m\u001b[37m\u001b[0m \u001b[1m5s\u001b[0m 39ms/step - accuracy: 0.9519 - loss: 0.1444 - val_accuracy: 0.9098 - val_loss: 0.3068\n",
      "Epoch 14/20\n",
      "\u001b[1m131/131\u001b[0m \u001b[32m━━━━━━━━━━━━━━━━━━━━\u001b[0m\u001b[37m\u001b[0m \u001b[1m5s\u001b[0m 40ms/step - accuracy: 0.9447 - loss: 0.1642 - val_accuracy: 0.9002 - val_loss: 0.3003\n",
      "Epoch 15/20\n",
      "\u001b[1m131/131\u001b[0m \u001b[32m━━━━━━━━━━━━━━━━━━━━\u001b[0m\u001b[37m\u001b[0m \u001b[1m5s\u001b[0m 40ms/step - accuracy: 0.9487 - loss: 0.1535 - val_accuracy: 0.9012 - val_loss: 0.3026\n",
      "Epoch 16/20\n",
      "\u001b[1m131/131\u001b[0m \u001b[32m━━━━━━━━━━━━━━━━━━━━\u001b[0m\u001b[37m\u001b[0m \u001b[1m5s\u001b[0m 40ms/step - accuracy: 0.9522 - loss: 0.1316 - val_accuracy: 0.8839 - val_loss: 0.3352\n",
      "Epoch 17/20\n",
      "\u001b[1m131/131\u001b[0m \u001b[32m━━━━━━━━━━━━━━━━━━━━\u001b[0m\u001b[37m\u001b[0m \u001b[1m5s\u001b[0m 39ms/step - accuracy: 0.9433 - loss: 0.1454 - val_accuracy: 0.9107 - val_loss: 0.2771\n",
      "Epoch 18/20\n",
      "\u001b[1m131/131\u001b[0m \u001b[32m━━━━━━━━━━━━━━━━━━━━\u001b[0m\u001b[37m\u001b[0m \u001b[1m5s\u001b[0m 41ms/step - accuracy: 0.9488 - loss: 0.1420 - val_accuracy: 0.8983 - val_loss: 0.3029\n",
      "Epoch 19/20\n",
      "\u001b[1m131/131\u001b[0m \u001b[32m━━━━━━━━━━━━━━━━━━━━\u001b[0m\u001b[37m\u001b[0m \u001b[1m6s\u001b[0m 42ms/step - accuracy: 0.9580 - loss: 0.1244 - val_accuracy: 0.9021 - val_loss: 0.3074\n",
      "Epoch 20/20\n",
      "\u001b[1m131/131\u001b[0m \u001b[32m━━━━━━━━━━━━━━━━━━━━\u001b[0m\u001b[37m\u001b[0m \u001b[1m6s\u001b[0m 44ms/step - accuracy: 0.9511 - loss: 0.1424 - val_accuracy: 0.9069 - val_loss: 0.2943\n",
      "\u001b[1m33/33\u001b[0m \u001b[32m━━━━━━━━━━━━━━━━━━━━\u001b[0m\u001b[37m\u001b[0m \u001b[1m0s\u001b[0m 8ms/step - accuracy: 0.8910 - loss: 0.3433 \n",
      "Test accuracy: 90.69%\n"
     ]
    }
   ],
   "source": [
    "import tensorflow as tf\n",
    "from tensorflow import keras\n",
    "from sklearn.preprocessing import LabelEncoder\n",
    "from sklearn.model_selection import train_test_split\n",
    "\n",
    "# Encodage des labels en nombres\n",
    "label_encoder = LabelEncoder()\n",
    "y_encoded = label_encoder.fit_transform(y)  \n",
    "\n",
    "# Séparation en entraînement et test\n",
    "X_train, X_test, y_train, y_test = train_test_split(X, y_encoded, test_size=0.2, random_state=42)\n",
    "\n",
    "# Construction du modèle MLP\n",
    "model = keras.Sequential([\n",
    "    keras.layers.Input(shape=(X.shape[1],)),  # Entrée avec shape (fixed_length,)\n",
    "    \n",
    "    keras.layers.Dense(512, activation='sigmoid'),\n",
    "    keras.layers.Dropout(0.3),  # Régularisation pour éviter l'overfitting\n",
    "    \n",
    "    keras.layers.Dense(256, activation='sigmoid'),\n",
    "    keras.layers.Dropout(0.3),\n",
    "    \n",
    "    keras.layers.Dense(128, activation='sigmoid'),\n",
    "    \n",
    "    keras.layers.Dense(len(set(y)), activation='softmax')  # Sortie avec softmax pour classification\n",
    "])\n",
    "\n",
    "# Compilation du modèle\n",
    "model.compile(optimizer='adam', loss='sparse_categorical_crossentropy', metrics=['accuracy'])\n",
    "\n",
    "# Affichage du résumé\n",
    "model.summary()\n",
    "\n",
    "# Entraînement du modèle\n",
    "model.fit(X_train, y_train, epochs=20, batch_size=32, validation_data=(X_test, y_test))\n",
    "\n",
    "# Évaluation du modèle\n",
    "test_loss, test_acc = model.evaluate(X_test, y_test)\n",
    "print(f\"Test accuracy: {test_acc * 100:.2f}%\")\n",
    "\n",
    "# Sauvegarde du modèle\n",
    "model.save(r\"C:\\Users\\pc\\Desktop\\models\\modele_reconnaissance_vocale.keras\")\n",
    "\n",
    "\n"
   ]
  },
  {
   "cell_type": "code",
   "execution_count": 13,
   "id": "81612da6-2043-4437-bd06-1bf0b84c5254",
   "metadata": {},
   "outputs": [
    {
     "name": "stdout",
     "output_type": "stream",
     "text": [
      "🎤 Enregistrement en cours...\n",
      "✅ Enregistrement terminé.\n",
      "\u001b[1m1/1\u001b[0m \u001b[32m━━━━━━━━━━━━━━━━━━━━\u001b[0m\u001b[37m\u001b[0m \u001b[1m0s\u001b[0m 110ms/step\n",
      "🗣️ Mot prédit : bird\n"
     ]
    }
   ],
   "source": [
    "import sounddevice as sd\n",
    "import numpy as np\n",
    "import librosa\n",
    "import tensorflow as tf\n",
    "import os\n",
    "\n",
    "# Paramètres\n",
    "duration = 2  # Durée de l'enregistrement (en secondes)\n",
    "sr = 22050  # Taux d'échantillonnage\n",
    "n_fft = 2048\n",
    "hop_length = 512\n",
    "fixed_length = 10000  # Taille des vecteurs 1D\n",
    "\n",
    "# Charger le modèle entraîné (modifié pour utiliser le format .keras)\n",
    "model = tf.keras.models.load_model(r\"C:\\Users\\pc\\Desktop\\models\\modele_reconnaissance_vocale.keras\")\n",
    "\n",
    "# Liste des mots utilisés dans l'entraînement (à adapter selon ton dataset)\n",
    "words = os.listdir(r\"C:\\Users\\pc\\Desktop\\lst sdid\\S6\\machine learning\\projet de la reconnaissance vocale\\data\\archive\")\n",
    "\n",
    "def record_audio(duration, sr):\n",
    "    print(\"🎤 Enregistrement en cours...\")\n",
    "    audio = sd.rec(int(duration * sr), samplerate=sr, channels=1, dtype=np.float32)\n",
    "    sd.wait()\n",
    "    print(\"✅ Enregistrement terminé.\")\n",
    "    return audio.flatten()\n",
    "\n",
    "def extract_features(signal, sr):\n",
    "    stft = librosa.stft(signal, n_fft=n_fft, hop_length=hop_length)\n",
    "    spectrogram = np.abs(stft)\n",
    "    spectrogram_flat = spectrogram.flatten()\n",
    "\n",
    "    # Ajuster la taille\n",
    "    if len(spectrogram_flat) > fixed_length:\n",
    "        spectrogram_flat = spectrogram_flat[:fixed_length]\n",
    "    else:\n",
    "        spectrogram_flat = np.pad(spectrogram_flat, (0, fixed_length - len(spectrogram_flat)))\n",
    "\n",
    "    return np.array([spectrogram_flat])  # Ajouter une dimension pour le modèle\n",
    "\n",
    "# 🎤 Enregistrer la voix\n",
    "audio_signal = record_audio(duration, sr)\n",
    "\n",
    "# 🔍 Extraire les caractéristiques\n",
    "X_test = extract_features(audio_signal, sr)\n",
    "\n",
    "# 🤖 Faire la prédiction\n",
    "prediction = model.predict(X_test)\n",
    "predicted_word = words[np.argmax(prediction)]  # Trouver le mot le plus probable\n",
    "\n",
    "print(f\"🗣️ Mot prédit : {predicted_word}\")\n"
   ]
  },
  {
   "cell_type": "code",
   "execution_count": null,
   "id": "b61e4093-0858-4787-8f72-849970bd0dc4",
   "metadata": {},
   "outputs": [],
   "source": []
  },
  {
   "cell_type": "code",
   "execution_count": null,
   "id": "b7799cc7-aed8-4e79-a987-feb4b8f9b1bd",
   "metadata": {},
   "outputs": [],
   "source": []
  },
  {
   "cell_type": "code",
   "execution_count": null,
   "id": "8a5e2a0f-9288-4e8a-9d72-92278541489e",
   "metadata": {},
   "outputs": [],
   "source": []
  }
 ],
 "metadata": {
  "kernelspec": {
   "display_name": "Python 3 (ipykernel)",
   "language": "python",
   "name": "python3"
  },
  "language_info": {
   "codemirror_mode": {
    "name": "ipython",
    "version": 3
   },
   "file_extension": ".py",
   "mimetype": "text/x-python",
   "name": "python",
   "nbconvert_exporter": "python",
   "pygments_lexer": "ipython3",
   "version": "3.10.10"
  }
 },
 "nbformat": 4,
 "nbformat_minor": 5
}
