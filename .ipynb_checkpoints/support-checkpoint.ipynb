{
 "cells": [
  {
   "cell_type": "code",
   "execution_count": null,
   "id": "3eec434a-1005-4e11-95ea-81d5294e2725",
   "metadata": {},
   "outputs": [],
   "source": [
    "import os\n",
    "import numpy as np\n",
    "import librosa\n",
    "\n",
    "# Chemin du dossier principal\n",
    "data_path = r\"C:\\Users\\pc\\Desktop\\lst sdid\\S6\\machine learning\\projet de la reconnaissance vocale\\data\\archive\"\n",
    "\n",
    "# Paramètres\n",
    "hop_length = 512\n",
    "n_fft = 2048\n",
    "sr = 22050  \n",
    "fixed_length = 10000  # Longueur fixe des vecteurs 1D\n",
    "\n",
    "# Stockage des données\n",
    "X = []\n",
    "y = []\n",
    "\n",
    "# Parcourir les sous-dossiers (mots)\n",
    "for word in os.listdir(data_path):\n",
    "    word_path = os.path.join(data_path, word)\n",
    "    \n",
    "    if os.path.isdir(word_path):  \n",
    "        print(f\"Traitement du mot : {word}\")\n",
    "\n",
    "        for file in os.listdir(word_path):\n",
    "            if file.endswith(\".wav\"):\n",
    "                file_path = os.path.join(word_path, file)\n",
    "\n",
    "                # Charger le fichier audio\n",
    "                signal, _ = librosa.load(file_path, sr=sr)\n",
    "\n",
    "                # STFT - Spectrogramme\n",
    "                stft = librosa.stft(signal, n_fft=n_fft, hop_length=hop_length)\n",
    "                spectrogram = np.abs(stft)\n",
    "                spectrogram_flat = spectrogram.flatten()  # Transformation en vecteur 1D\n",
    "\n",
    "                # Ajuster la taille du vecteur\n",
    "                if len(spectrogram_flat) > fixed_length:\n",
    "                    spectrogram_flat = spectrogram_flat[:fixed_length]  # Tronquer\n",
    "                else:\n",
    "                    spectrogram_flat = np.pad(spectrogram_flat, (0, fixed_length - len(spectrogram_flat)))  # Ajouter des zéros\n",
    "\n",
    "                # Stocker les données\n",
    "                X.append(spectrogram_flat)\n",
    "                y.append(word)\n",
    "\n",
    "# Conversion en numpy array\n",
    "X = np.array(X)\n",
    "y = np.array(y)\n",
    "\n",
    "# Affichage des dimensions\n",
    "print(\"Nombre d'échantillons :\", len(X))\n",
    "print(\"Dimension finale des vecteurs 1D :\", X.shape)\n",
    "print(\"Exemple de vecteur :\", X[0][:10])  # Afficher les 10 premières valeurs du 1er vecteur"
   ]
  },
  {
   "cell_type": "code",
   "execution_count": null,
   "id": "05e110c0-e331-4296-825f-f31e1f25f505",
   "metadata": {},
   "outputs": [],
   "source": []
  },
  {
   "cell_type": "code",
   "execution_count": null,
   "id": "676ecdde-39b2-49b6-9b1a-3e9b5dcc5d1a",
   "metadata": {},
   "outputs": [],
   "source": []
  },
  {
   "cell_type": "code",
   "execution_count": null,
   "id": "e3069aff-634a-4598-a5bf-06243e3e1e2b",
   "metadata": {},
   "outputs": [],
   "source": []
  },
  {
   "cell_type": "code",
   "execution_count": null,
   "id": "69023a34-d440-4250-978b-3756d3728239",
   "metadata": {},
   "outputs": [],
   "source": []
  },
  {
   "cell_type": "code",
   "execution_count": null,
   "id": "83b988a2-db8d-4217-875f-eb9dd6d08ae8",
   "metadata": {},
   "outputs": [],
   "source": [
    "\n"
   ]
  },
  {
   "cell_type": "code",
   "execution_count": null,
   "id": "544ac1bf-8ba6-4642-998b-32381cb72230",
   "metadata": {},
   "outputs": [],
   "source": []
  },
  {
   "cell_type": "code",
   "execution_count": null,
   "id": "b512782b-725b-458f-bb2b-43f4d150f5eb",
   "metadata": {},
   "outputs": [],
   "source": []
  },
  {
   "cell_type": "code",
   "execution_count": null,
   "id": "7097bb4a-79e8-4ff8-8db7-4af7d1a031cd",
   "metadata": {},
   "outputs": [],
   "source": []
  }
 ],
 "metadata": {
  "kernelspec": {
   "display_name": "Python 3 (ipykernel)",
   "language": "python",
   "name": "python3"
  },
  "language_info": {
   "codemirror_mode": {
    "name": "ipython",
    "version": 3
   },
   "file_extension": ".py",
   "mimetype": "text/x-python",
   "name": "python",
   "nbconvert_exporter": "python",
   "pygments_lexer": "ipython3",
   "version": "3.10.0"
  }
 },
 "nbformat": 4,
 "nbformat_minor": 5
}
