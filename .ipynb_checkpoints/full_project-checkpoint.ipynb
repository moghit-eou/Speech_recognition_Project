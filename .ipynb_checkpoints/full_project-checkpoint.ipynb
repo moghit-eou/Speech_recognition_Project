{
 "cells": [
  {
   "cell_type": "code",
   "execution_count": 1,
   "id": "cef5fe06-ef09-4341-bb0a-d81f2d837a33",
   "metadata": {},
   "outputs": [
    {
     "name": "stdout",
     "output_type": "stream",
     "text": [
      "Traitement du mot : 0_zero\n",
      "Traitement du mot : 1_one\n",
      "Traitement du mot : 2_two\n",
      "Traitement du mot : 3_three\n",
      "Traitement du mot : 4_four\n",
      "Traitement du mot : 5_five\n",
      "Traitement du mot : 6_six\n",
      "Traitement du mot : 7_seven\n",
      "Traitement du mot : 8_eight\n",
      "Traitement du mot : 9_nine\n",
      "DONE\n"
     ]
    }
   ],
   "source": [
    "import os\n",
    "import numpy as np\n",
    "import librosa\n",
    "\n",
    "# Chemin du dossier principal\n",
    "data_path = r\"C:\\Users\\lenovo\\Desktop\\digits_sound\"\n",
    "\n",
    "# Paramètres\n",
    "hop_length = 512\n",
    "n_fft = 2048\n",
    "sr = 22050\n",
    "fixed_length = 45100  # Longueur fixe des vecteurs 1D\n",
    "\n",
    "# Stockage des données\n",
    "X = []\n",
    "y = []\n",
    "\n",
    "counter = 0 \n",
    "# Parcourir les sous-dossiers (mots)\n",
    "for word in os.listdir(data_path):\n",
    "    word_path = os.path.join(data_path, word)\n",
    "    \n",
    "    if os.path.isdir(word_path):  \n",
    "        print(f\"Traitement du mot : {word}\")\n",
    "        for file in os.listdir(word_path):\n",
    "            if file.endswith(\".wav\"):\n",
    "                file_path = os.path.join(word_path, file)\n",
    "\n",
    "           \n",
    "                signal, _ = librosa.load(file_path, sr=sr)\n",
    "                \n",
    "                \n",
    "                stft = librosa.stft(signal, n_fft=n_fft, hop_length=hop_length)\n",
    "                spectrogram = np.abs(stft)\n",
    "                spectrogram = librosa.amplitude_to_db(spectrogram)\n",
    "                spectrogram_flat = spectrogram.flatten()\n",
    "                \n",
    "                if len(spectrogram_flat) > fixed_length:\n",
    "                    spectrogram_flat = spectrogram_flat[:fixed_length] \n",
    "                else:\n",
    "                    spectrogram_flat = np.pad(spectrogram_flat, (0, fixed_length - len(spectrogram_flat)))  \n",
    "\n",
    "                X.append(spectrogram_flat)\n",
    "                y.append(word)\n",
    "                counter = counter + 1 \n",
    "\n",
    "X = np.array(X)\n",
    "y = np.array(y)\n",
    "\n",
    "print(\"DONE\")"
   ]
  },
  {
   "cell_type": "code",
   "execution_count": 2,
   "id": "c1172700-b73c-4724-a206-de3dff589043",
   "metadata": {},
   "outputs": [],
   "source": [
    "import os\n",
    "import numpy as np\n",
    "import librosa\n",
    "\n",
    "X = np.array([])\n",
    "y = np.array([])\n",
    "\n",
    "with np.load(\"data/digits_data.npz\") as data :\n",
    "    X = data[\"first\"]\n",
    "    y = data[\"second\"]"
   ]
  },
  {
   "cell_type": "code",
   "execution_count": 7,
   "id": "58207ff6-befd-4dec-b506-eb477de45eed",
   "metadata": {},
   "outputs": [
    {
     "data": {
      "text/plain": [
       "array(['eight', 'five', 'four', 'nine', 'one', 'seven', 'six', 'three',\n",
       "       'two', 'zero'], dtype='<U5')"
      ]
     },
     "execution_count": 7,
     "metadata": {},
     "output_type": "execute_result"
    }
   ],
   "source": [
    "np.unique(y)"
   ]
  },
  {
   "cell_type": "code",
   "execution_count": 8,
   "id": "840a2b69-ca98-47bd-96cc-78ef89cd5954",
   "metadata": {},
   "outputs": [],
   "source": [
    "np.savez(\"data/words.npz\" , y = np.unique(y) )"
   ]
  },
  {
   "cell_type": "code",
   "execution_count": 2,
   "id": "874f2c8f-b3c9-4bff-b989-0fcb61744a9c",
   "metadata": {},
   "outputs": [],
   "source": [
    "import tensorflow as tf\n",
    "from tensorflow import keras\n",
    "from sklearn.preprocessing import LabelEncoder\n",
    "from sklearn.model_selection import train_test_split\n",
    "\n",
    "# Encodage des labels en nombres\n",
    "label_encoder = LabelEncoder()\n",
    "y_encoded = label_encoder.fit_transform(y)  \n",
    "\n",
    "# Séparation en entraînement et test\n",
    "X_train , X_test , y_train , y_test = train_test_split(X ,\n",
    "                                                       y_encoded,\n",
    "                                                       test_size = 0.2 ,\n",
    "                                                       random_state = 42,\n",
    "                                                       shuffle = True,\n",
    "                                                       stratify = y_encoded\n",
    "                                                       )"
   ]
  },
  {
   "cell_type": "code",
   "execution_count": 3,
   "id": "5e906d5a-5378-4907-98d6-0b5f8131d52b",
   "metadata": {},
   "outputs": [],
   "source": [
    "np.savez(\"db_digit.npz\" , X_train = X_train , X_test = X_test , y_train = y_train , y_test = y_test ) "
   ]
  },
  {
   "cell_type": "code",
   "execution_count": 6,
   "id": "072a9dc3-3ba1-428f-9eb8-585e3f1d9fab",
   "metadata": {},
   "outputs": [
    {
     "data": {
      "text/html": [
       "<pre style=\"white-space:pre;overflow-x:auto;line-height:normal;font-family:Menlo,'DejaVu Sans Mono',consolas,'Courier New',monospace\"><span style=\"font-weight: bold\">Model: \"sequential_1\"</span>\n",
       "</pre>\n"
      ],
      "text/plain": [
       "\u001b[1mModel: \"sequential_1\"\u001b[0m\n"
      ]
     },
     "metadata": {},
     "output_type": "display_data"
    },
    {
     "data": {
      "text/html": [
       "<pre style=\"white-space:pre;overflow-x:auto;line-height:normal;font-family:Menlo,'DejaVu Sans Mono',consolas,'Courier New',monospace\">┏━━━━━━━━━━━━━━━━━━━━━━━━━━━━━━━━━━━━━━┳━━━━━━━━━━━━━━━━━━━━━━━━━━━━━┳━━━━━━━━━━━━━━━━━┓\n",
       "┃<span style=\"font-weight: bold\"> Layer (type)                         </span>┃<span style=\"font-weight: bold\"> Output Shape                </span>┃<span style=\"font-weight: bold\">         Param # </span>┃\n",
       "┡━━━━━━━━━━━━━━━━━━━━━━━━━━━━━━━━━━━━━━╇━━━━━━━━━━━━━━━━━━━━━━━━━━━━━╇━━━━━━━━━━━━━━━━━┩\n",
       "│ dense_4 (<span style=\"color: #0087ff; text-decoration-color: #0087ff\">Dense</span>)                      │ (<span style=\"color: #00d7ff; text-decoration-color: #00d7ff\">None</span>, <span style=\"color: #00af00; text-decoration-color: #00af00\">512</span>)                 │      <span style=\"color: #00af00; text-decoration-color: #00af00\">23,091,712</span> │\n",
       "├──────────────────────────────────────┼─────────────────────────────┼─────────────────┤\n",
       "│ dropout_2 (<span style=\"color: #0087ff; text-decoration-color: #0087ff\">Dropout</span>)                  │ (<span style=\"color: #00d7ff; text-decoration-color: #00d7ff\">None</span>, <span style=\"color: #00af00; text-decoration-color: #00af00\">512</span>)                 │               <span style=\"color: #00af00; text-decoration-color: #00af00\">0</span> │\n",
       "├──────────────────────────────────────┼─────────────────────────────┼─────────────────┤\n",
       "│ dense_5 (<span style=\"color: #0087ff; text-decoration-color: #0087ff\">Dense</span>)                      │ (<span style=\"color: #00d7ff; text-decoration-color: #00d7ff\">None</span>, <span style=\"color: #00af00; text-decoration-color: #00af00\">256</span>)                 │         <span style=\"color: #00af00; text-decoration-color: #00af00\">131,328</span> │\n",
       "├──────────────────────────────────────┼─────────────────────────────┼─────────────────┤\n",
       "│ dropout_3 (<span style=\"color: #0087ff; text-decoration-color: #0087ff\">Dropout</span>)                  │ (<span style=\"color: #00d7ff; text-decoration-color: #00d7ff\">None</span>, <span style=\"color: #00af00; text-decoration-color: #00af00\">256</span>)                 │               <span style=\"color: #00af00; text-decoration-color: #00af00\">0</span> │\n",
       "├──────────────────────────────────────┼─────────────────────────────┼─────────────────┤\n",
       "│ dense_6 (<span style=\"color: #0087ff; text-decoration-color: #0087ff\">Dense</span>)                      │ (<span style=\"color: #00d7ff; text-decoration-color: #00d7ff\">None</span>, <span style=\"color: #00af00; text-decoration-color: #00af00\">128</span>)                 │          <span style=\"color: #00af00; text-decoration-color: #00af00\">32,896</span> │\n",
       "├──────────────────────────────────────┼─────────────────────────────┼─────────────────┤\n",
       "│ dense_7 (<span style=\"color: #0087ff; text-decoration-color: #0087ff\">Dense</span>)                      │ (<span style=\"color: #00d7ff; text-decoration-color: #00d7ff\">None</span>, <span style=\"color: #00af00; text-decoration-color: #00af00\">10</span>)                  │           <span style=\"color: #00af00; text-decoration-color: #00af00\">1,290</span> │\n",
       "└──────────────────────────────────────┴─────────────────────────────┴─────────────────┘\n",
       "</pre>\n"
      ],
      "text/plain": [
       "┏━━━━━━━━━━━━━━━━━━━━━━━━━━━━━━━━━━━━━━┳━━━━━━━━━━━━━━━━━━━━━━━━━━━━━┳━━━━━━━━━━━━━━━━━┓\n",
       "┃\u001b[1m \u001b[0m\u001b[1mLayer (type)                        \u001b[0m\u001b[1m \u001b[0m┃\u001b[1m \u001b[0m\u001b[1mOutput Shape               \u001b[0m\u001b[1m \u001b[0m┃\u001b[1m \u001b[0m\u001b[1m        Param #\u001b[0m\u001b[1m \u001b[0m┃\n",
       "┡━━━━━━━━━━━━━━━━━━━━━━━━━━━━━━━━━━━━━━╇━━━━━━━━━━━━━━━━━━━━━━━━━━━━━╇━━━━━━━━━━━━━━━━━┩\n",
       "│ dense_4 (\u001b[38;5;33mDense\u001b[0m)                      │ (\u001b[38;5;45mNone\u001b[0m, \u001b[38;5;34m512\u001b[0m)                 │      \u001b[38;5;34m23,091,712\u001b[0m │\n",
       "├──────────────────────────────────────┼─────────────────────────────┼─────────────────┤\n",
       "│ dropout_2 (\u001b[38;5;33mDropout\u001b[0m)                  │ (\u001b[38;5;45mNone\u001b[0m, \u001b[38;5;34m512\u001b[0m)                 │               \u001b[38;5;34m0\u001b[0m │\n",
       "├──────────────────────────────────────┼─────────────────────────────┼─────────────────┤\n",
       "│ dense_5 (\u001b[38;5;33mDense\u001b[0m)                      │ (\u001b[38;5;45mNone\u001b[0m, \u001b[38;5;34m256\u001b[0m)                 │         \u001b[38;5;34m131,328\u001b[0m │\n",
       "├──────────────────────────────────────┼─────────────────────────────┼─────────────────┤\n",
       "│ dropout_3 (\u001b[38;5;33mDropout\u001b[0m)                  │ (\u001b[38;5;45mNone\u001b[0m, \u001b[38;5;34m256\u001b[0m)                 │               \u001b[38;5;34m0\u001b[0m │\n",
       "├──────────────────────────────────────┼─────────────────────────────┼─────────────────┤\n",
       "│ dense_6 (\u001b[38;5;33mDense\u001b[0m)                      │ (\u001b[38;5;45mNone\u001b[0m, \u001b[38;5;34m128\u001b[0m)                 │          \u001b[38;5;34m32,896\u001b[0m │\n",
       "├──────────────────────────────────────┼─────────────────────────────┼─────────────────┤\n",
       "│ dense_7 (\u001b[38;5;33mDense\u001b[0m)                      │ (\u001b[38;5;45mNone\u001b[0m, \u001b[38;5;34m10\u001b[0m)                  │           \u001b[38;5;34m1,290\u001b[0m │\n",
       "└──────────────────────────────────────┴─────────────────────────────┴─────────────────┘\n"
      ]
     },
     "metadata": {},
     "output_type": "display_data"
    },
    {
     "data": {
      "text/html": [
       "<pre style=\"white-space:pre;overflow-x:auto;line-height:normal;font-family:Menlo,'DejaVu Sans Mono',consolas,'Courier New',monospace\"><span style=\"font-weight: bold\"> Total params: </span><span style=\"color: #00af00; text-decoration-color: #00af00\">23,257,226</span> (88.72 MB)\n",
       "</pre>\n"
      ],
      "text/plain": [
       "\u001b[1m Total params: \u001b[0m\u001b[38;5;34m23,257,226\u001b[0m (88.72 MB)\n"
      ]
     },
     "metadata": {},
     "output_type": "display_data"
    },
    {
     "data": {
      "text/html": [
       "<pre style=\"white-space:pre;overflow-x:auto;line-height:normal;font-family:Menlo,'DejaVu Sans Mono',consolas,'Courier New',monospace\"><span style=\"font-weight: bold\"> Trainable params: </span><span style=\"color: #00af00; text-decoration-color: #00af00\">23,257,226</span> (88.72 MB)\n",
       "</pre>\n"
      ],
      "text/plain": [
       "\u001b[1m Trainable params: \u001b[0m\u001b[38;5;34m23,257,226\u001b[0m (88.72 MB)\n"
      ]
     },
     "metadata": {},
     "output_type": "display_data"
    },
    {
     "data": {
      "text/html": [
       "<pre style=\"white-space:pre;overflow-x:auto;line-height:normal;font-family:Menlo,'DejaVu Sans Mono',consolas,'Courier New',monospace\"><span style=\"font-weight: bold\"> Non-trainable params: </span><span style=\"color: #00af00; text-decoration-color: #00af00\">0</span> (0.00 B)\n",
       "</pre>\n"
      ],
      "text/plain": [
       "\u001b[1m Non-trainable params: \u001b[0m\u001b[38;5;34m0\u001b[0m (0.00 B)\n"
      ]
     },
     "metadata": {},
     "output_type": "display_data"
    }
   ],
   "source": [
    "\n",
    "# Construction du modèle MLP\n",
    "model = keras.Sequential([\n",
    "    keras.layers.Input(shape=(X.shape[1],)),  # Entrée avec shape (fixed_length,)\n",
    "    \n",
    "    keras.layers.Dense(512, activation='relu'),\n",
    "    keras.layers.Dropout(0.3),\n",
    "    \n",
    "    keras.layers.Dense(256, activation='relu'),\n",
    "    keras.layers.Dropout(0.3),\n",
    "    \n",
    "    keras.layers.Dense(128, activation='relu'),\n",
    "    \n",
    "    keras.layers.Dense(len(set(y)), activation='softmax')  # Sortie avec softmax pour classification\n",
    "])\n",
    "\n",
    "# Compilation du modèle\n",
    "model.compile(optimizer='adam', loss='sparse_categorical_crossentropy', metrics=['accuracy'])\n",
    "\n",
    "# Affichage du résumé\n",
    "model.summary()\n",
    "\n",
    "\n",
    "\n",
    "\n"
   ]
  },
  {
   "cell_type": "code",
   "execution_count": null,
   "id": "df1a3889-41fd-4817-b80d-82364735cf83",
   "metadata": {},
   "outputs": [],
   "source": []
  },
  {
   "cell_type": "code",
   "execution_count": null,
   "id": "b4feb088-cff1-4768-a65b-8e020fac76a1",
   "metadata": {},
   "outputs": [],
   "source": [
    "history = model.fit(X_train, y_train, epochs=20, batch_size=32, validation_data=(X_test, y_test))\n"
   ]
  },
  {
   "cell_type": "code",
   "execution_count": null,
   "id": "e9bf62e0-43fa-4c49-a569-356e1c19171a",
   "metadata": {},
   "outputs": [],
   "source": []
  },
  {
   "cell_type": "code",
   "execution_count": 9,
   "id": "419d8b69-3940-4838-8e00-a874b072e442",
   "metadata": {},
   "outputs": [],
   "source": []
  },
  {
   "cell_type": "code",
   "execution_count": null,
   "id": "c8b7c1b2-3191-45bd-9382-2367154f053c",
   "metadata": {},
   "outputs": [],
   "source": [
    "import matplotlib.pyplot as plt\n",
    "def plot_history(history):\n",
    "\n",
    "    fig, axs = plt.subplots(2)\n",
    "\n",
    "    # create accuracy sublpot\n",
    "    axs[0].plot(history.history[\"accuracy\"], label=\"train accuracy\")\n",
    "    axs[0].plot(history.history[\"val_accuracy\"], label=\"test accuracy\")\n",
    "    axs[0].set_ylabel(\"Accuracy\")\n",
    "    axs[0].legend(loc=\"lower right\")\n",
    "    axs[0].set_title(\"Accuracy eval\")\n",
    "\n",
    "    # create error sublpot\n",
    "    axs[1].plot(history.history[\"loss\"], label=\"train error\")\n",
    "    axs[1].plot(history.history[\"val_loss\"], label=\"test error\")\n",
    "    axs[1].set_ylabel(\"Error\")\n",
    "    axs[1].set_xlabel(\"Epoch\")\n",
    "    axs[1].legend(loc=\"upper right\")\n",
    "    axs[1].set_title(\"Error eval\")\n",
    "\n",
    "    plt.show()\n",
    "\n",
    "\n",
    "\n",
    "plot_history(model.history)\n"
   ]
  },
  {
   "cell_type": "code",
   "execution_count": null,
   "id": "90074fe5-2519-44d2-9c95-fe96d1251aaf",
   "metadata": {},
   "outputs": [],
   "source": []
  },
  {
   "cell_type": "code",
   "execution_count": null,
   "id": "673d940c-f87c-4a1d-a3d8-1021ca0f4184",
   "metadata": {},
   "outputs": [],
   "source": []
  },
  {
   "cell_type": "code",
   "execution_count": 9,
   "id": "37dfff22-5637-4302-8dc6-59ffffcc59f0",
   "metadata": {},
   "outputs": [],
   "source": []
  },
  {
   "cell_type": "code",
   "execution_count": 10,
   "id": "bd3ab78b-e5e4-4164-8432-623ba23cf55c",
   "metadata": {},
   "outputs": [
    {
     "data": {
      "text/plain": [
       "array(['eight', 'five', 'four', 'nine', 'one', 'seven', 'six', 'three',\n",
       "       'two', 'zero'], dtype='<U5')"
      ]
     },
     "execution_count": 10,
     "metadata": {},
     "output_type": "execute_result"
    }
   ],
   "source": []
  },
  {
   "cell_type": "code",
   "execution_count": 3,
   "id": "81612da6-2043-4437-bd06-1bf0b84c5254",
   "metadata": {},
   "outputs": [],
   "source": [
    "import sounddevice as sd\n",
    "import numpy as np\n",
    "import librosa\n",
    "import tensorflow as tf\n",
    "import os\n",
    "\n",
    "with np.load(\"data/words.npz\") as data :\n",
    "    words = data[\"y\"]\n",
    "\n",
    "model = tf.keras.models.load_model(\"./models_last/last_model_e20_acc78_.keras\")\n",
    "\n",
    "\n",
    "duration = 1  \n",
    "sr = 22050  \n",
    "n_fft = 2048\n",
    "hop_length = 512\n",
    "fixed_length = 45100  \n",
    "\n",
    "\n",
    "def record_audio(duration, sr):\n",
    "    print(\"🎤 Enregistrement en cours...\")\n",
    "    audio = sd.rec(int(duration * sr), samplerate=sr, channels=1, dtype=np.float32)\n",
    "    sd.wait()\n",
    "    print(\"✅ Enregistrement terminé.\")\n",
    "    return audio.flatten()\n",
    "\n",
    "def extract_features(signal, sr):\n",
    "    stft = librosa.stft(signal, n_fft=n_fft, hop_length=hop_length)\n",
    "    spectrogram = np.abs(stft)\n",
    "    spectrogram_flat = spectrogram.flatten()\n",
    "\n",
    "    if len(spectrogram_flat) > fixed_length:\n",
    "        spectrogram_flat = spectrogram_flat[:fixed_length]\n",
    "    else:\n",
    "        spectrogram_flat = np.pad(spectrogram_flat, (0, fixed_length - len(spectrogram_flat)))\n",
    "\n",
    "    return np.array([spectrogram_flat]) \n",
    "\n",
    "def report(prediction):\n",
    "    test = []\n",
    "    values = prediction[0]\n",
    "    for i in range ( 10 ) : \n",
    "        value = np.round ( values[i] * 100 , 2 )\n",
    "        value = round(float(value) , 2 )\n",
    "        word = str(words[i])\n",
    "        test.append(( value , word ))\n",
    "    values_sorted = sorted(test , key = lambda item : item[0] * -1 )\n",
    "\n",
    "    print (\"prediction from high to low probability\")\n",
    "    print()\n",
    "    for i in range ( 10 ) : \n",
    "        print (f\"{values_sorted[i][1]} is {values_sorted[i][0]} % \")\n",
    "\n",
    "\n",
    "    print ( \"so the prediction word is \" , values_sorted[0][1] )\n",
    "        \n",
    "    \n"
   ]
  },
  {
   "cell_type": "code",
   "execution_count": 6,
   "id": "b61e4093-0858-4787-8f72-849970bd0dc4",
   "metadata": {},
   "outputs": [
    {
     "name": "stdout",
     "output_type": "stream",
     "text": [
      "🎤 Enregistrement en cours...\n",
      "✅ Enregistrement terminé.\n",
      "\u001b[1m1/1\u001b[0m \u001b[32m━━━━━━━━━━━━━━━━━━━━\u001b[0m\u001b[37m\u001b[0m \u001b[1m0s\u001b[0m 66ms/step\n",
      "🗣️ Mot prédit : five\n"
     ]
    }
   ],
   "source": [
    "audio_signal = record_audio(duration, sr)\n",
    "X_test = extract_features(audio_signal, sr)\n",
    "prediction = model.predict(X_test)\n",
    "predicted_word = words[np.argmax(prediction)] \n",
    "\n",
    "print(f\"🗣️ Mot prédit : {predicted_word}\")"
   ]
  },
  {
   "cell_type": "code",
   "execution_count": 7,
   "id": "b7799cc7-aed8-4e79-a987-feb4b8f9b1bd",
   "metadata": {},
   "outputs": [
    {
     "name": "stdout",
     "output_type": "stream",
     "text": [
      "prediction from high to low probability\n",
      "\n",
      "five is 25.06 % \n",
      "nine is 17.47 % \n",
      "one is 13.1 % \n",
      "four is 11.97 % \n",
      "seven is 10.99 % \n",
      "zero is 5.64 % \n",
      "six is 4.53 % \n",
      "three is 4.33 % \n",
      "two is 4.0 % \n",
      "eight is 2.9 % \n",
      "so the prediction word is  five\n"
     ]
    }
   ],
   "source": [
    "report(prediction)"
   ]
  },
  {
   "cell_type": "code",
   "execution_count": null,
   "id": "8a5e2a0f-9288-4e8a-9d72-92278541489e",
   "metadata": {},
   "outputs": [],
   "source": []
  },
  {
   "cell_type": "code",
   "execution_count": null,
   "id": "38702abd-eea4-41a7-89e1-e0ce1731c9d1",
   "metadata": {},
   "outputs": [],
   "source": []
  },
  {
   "cell_type": "code",
   "execution_count": null,
   "id": "9ffeef10-4863-47dc-9c4d-f04e39698d9e",
   "metadata": {},
   "outputs": [],
   "source": []
  },
  {
   "cell_type": "code",
   "execution_count": null,
   "id": "5e571739-bb03-448f-a8c5-15890fffde85",
   "metadata": {},
   "outputs": [],
   "source": []
  },
  {
   "cell_type": "code",
   "execution_count": null,
   "id": "629d79a9-d013-43a2-9381-954ee1da6426",
   "metadata": {},
   "outputs": [],
   "source": []
  },
  {
   "cell_type": "code",
   "execution_count": null,
   "id": "ac5887cd-d8b4-4721-8038-ba2d76e7f8cb",
   "metadata": {},
   "outputs": [],
   "source": []
  },
  {
   "cell_type": "code",
   "execution_count": 102,
   "id": "40c15ca3-bf4c-40a3-ac70-7c1d753d0fcf",
   "metadata": {},
   "outputs": [
    {
     "data": {
      "text/plain": [
       "np.float32(14.55)"
      ]
     },
     "execution_count": 102,
     "metadata": {},
     "output_type": "execute_result"
    }
   ],
   "source": []
  },
  {
   "cell_type": "code",
   "execution_count": null,
   "id": "6c6cd05d-7bb0-44f7-88d3-5fa902b2e7db",
   "metadata": {},
   "outputs": [],
   "source": []
  },
  {
   "cell_type": "code",
   "execution_count": null,
   "id": "08eb5d92-1160-4717-8cf0-f7bbf5b52730",
   "metadata": {},
   "outputs": [],
   "source": []
  }
 ],
 "metadata": {
  "kernelspec": {
   "display_name": "Python 3 (ipykernel)",
   "language": "python",
   "name": "python3"
  },
  "language_info": {
   "codemirror_mode": {
    "name": "ipython",
    "version": 3
   },
   "file_extension": ".py",
   "mimetype": "text/x-python",
   "name": "python",
   "nbconvert_exporter": "python",
   "pygments_lexer": "ipython3",
   "version": "3.10.0"
  }
 },
 "nbformat": 4,
 "nbformat_minor": 5
}
